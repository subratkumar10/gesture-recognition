{
 "cells": [
  {
   "cell_type": "code",
   "execution_count": null,
   "metadata": {},
   "outputs": [],
   "source": [
    "for filter_size in range( 2, 11 ):\n",
    "        model = Sequential()\n",
    "        model.add( BatchNormalization() )\n",
    "        model.add(Conv1D( filters = 100, kernel_size = filter_size, activation='relu', input_shape = ( max_len, no_of_channel ) ) )\n",
    "        model.add(Conv1D(100, kernel_size = filter_size, activation='relu'))\n",
    "        model.add(MaxPooling1D(3))\n",
    "        model.add(Conv1D(256, kernel_size = filter_size, activation='relu'))\n",
    "        model.add(Conv1D(256, kernel_size = filter_size , activation='relu'))\n",
    "        model.add(GlobalAveragePooling1D())\n",
    "        model.add(Dropout(0.8))\n",
    "        model.add(Dense(no_of_output_units, activation='softmax'))\n",
    "        opt = keras.optimizers.Adam( lr = 0.0001 )\n",
    "\n",
    "         \n",
    "        model.compile(loss='categorical_crossentropy', optimizer = opt, metrics=['accuracy'])\n",
    "             \n",
    "        history = model.fit( x = X_train, y = Y_train, batch_size = batch_size, epochs = epochs, validation_data = ( X_test, Y_test ) )\n",
    "   \n",
    "        model_json = model.to_json()\n",
    "        with open( \"/home/nao/Desktop/22 gestures data/upper body/Upper Body.json\", \"w\" ) as json_file:\n",
    "            json_file.write(model_json)\n",
    "        # serialize weights to HDF5\n",
    "        model.save_weights( \"/home/nao/Desktop/22 gestures data/upper body/Upper Body.h5\" )\n",
    "        print(\"Saved model to disk\")\n",
    "           \n",
    "        list_of_train_accuracy.append( history.history['acc'][-1] )\n",
    "        list_of_test_accuracy.append( Predictions_upper_filter_size.prediction_model( data_dict_test ) )\n",
    "       \n",
    "    \n"
   ]
  },
  {
   "cell_type": "code",
   "execution_count": null,
   "metadata": {},
   "outputs": [],
   "source": [
    "import matplotlib as plt\n",
    "plt.figure()\n",
    "plt.plot( range( 2, 11 ), list_of_train_accuracy, marker = 's' )\n",
    "plt.plot( range( 2, 11), list_of_test_accuracy, marker = 's' )\n",
    "plt.xlabel( 'Kernel Size', fontsize = 17 )\n",
    "plt.ylabel( 'Accuracy', fontsize = 18 )\n",
    "plt.legend(['Train Set', 'Test Set'], loc='best',fontsize = 14)\n",
    "plt.xticks( fontsize = 14 )\n",
    "plt.yticks( fontsize = 14 )\n",
    "plt.show()"
   ]
  }
 ],
 "metadata": {
  "kernelspec": {
   "display_name": "Python 3.10.7 64-bit",
   "language": "python",
   "name": "python3"
  },
  "language_info": {
   "name": "python",
   "version": "3.10.7"
  },
  "orig_nbformat": 4,
  "vscode": {
   "interpreter": {
    "hash": "229cdfb8eedfa4964725b7eb0da8d7a63b25d97a6ab808f09bd6b506844c0629"
   }
  }
 },
 "nbformat": 4,
 "nbformat_minor": 2
}
